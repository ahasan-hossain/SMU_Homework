{
 "cells": [
  {
   "cell_type": "markdown",
   "metadata": {},
   "source": [
    "# WeatherPy\n",
    "----\n",
    "\n",
    "#### Note\n",
    "* Instructions have been included for each segment. You do not have to follow them exactly, but they are included to help you think through the steps."
   ]
  },
  {
   "cell_type": "code",
   "execution_count": 3,
   "metadata": {
    "scrolled": true
   },
   "outputs": [],
   "source": [
    "# Dependencies and Setup\n",
    "import matplotlib.pyplot as plt\n",
    "import pandas as pd\n",
    "import numpy as np\n",
    "import requests\n",
    "import time\n",
    "from scipy.stats import linregress\n",
    "from pprint import pprint\n",
    "\n",
    "\n",
    "# Import API key\n",
    "from api_keys import weather_api_key\n",
    "\n",
    "# Incorporated citipy to determine city based on latitude and longitude\n",
    "from citipy import citipy\n",
    "\n",
    "# Output File (CSV)\n",
    "output_data_file = \"output_data/cities.csv\"\n",
    "\n",
    "# Range of latitudes and longitudes\n",
    "lat_range = (-90, 90)\n",
    "lng_range = (-180, 180)"
   ]
  },
  {
   "cell_type": "markdown",
   "metadata": {},
   "source": [
    "## Generate Cities List"
   ]
  },
  {
   "cell_type": "code",
   "execution_count": 5,
   "metadata": {},
   "outputs": [
    {
     "data": {
      "text/plain": [
       "659"
      ]
     },
     "execution_count": 5,
     "metadata": {},
     "output_type": "execute_result"
    }
   ],
   "source": [
    "# List for holding lat_lngs and cities\n",
    "lat_lngs = []\n",
    "cities = []\n",
    "\n",
    "# Create a set of random lat and lng combinations\n",
    "lats = np.random.uniform(lat_range[0], lat_range[1], size=1500)\n",
    "lngs = np.random.uniform(lng_range[0], lng_range[1], size=1500)\n",
    "lat_lngs = zip(lats, lngs)\n",
    "\n",
    "# Identify nearest city for each lat, lng combination\n",
    "for lat_lng in lat_lngs:\n",
    "    city = citipy.nearest_city(lat_lng[0], lat_lng[1]).city_name\n",
    "    \n",
    "    # If the city is unique, then add it to a our cities list\n",
    "    if city not in cities:\n",
    "        cities.append(city)\n",
    "\n",
    "# Print the city count to confirm sufficient count\n",
    "len(cities)"
   ]
  },
  {
   "cell_type": "markdown",
   "metadata": {},
   "source": [
    "### Perform API Calls\n",
    "* Perform a weather check on each city using a series of successive API calls.\n",
    "* Include a print log of each city as it'sbeing processed (with the city number and city name).\n"
   ]
  },
  {
   "cell_type": "code",
   "execution_count": 6,
   "metadata": {},
   "outputs": [
    {
     "data": {
      "text/plain": [
       "'yellowknife'"
      ]
     },
     "execution_count": 6,
     "metadata": {},
     "output_type": "execute_result"
    }
   ],
   "source": [
    "firstCity = cities[0]\n",
    "firstCity"
   ]
  },
  {
   "cell_type": "code",
   "execution_count": 7,
   "metadata": {
    "scrolled": true
   },
   "outputs": [
    {
     "name": "stdout",
     "output_type": "stream",
     "text": [
      "{'base': 'stations',\n",
      " 'clouds': {'all': 90},\n",
      " 'cod': 200,\n",
      " 'coord': {'lat': 62.46, 'lon': -114.35},\n",
      " 'dt': 1593843875,\n",
      " 'id': 6185377,\n",
      " 'main': {'feels_like': 55.38,\n",
      "          'humidity': 100,\n",
      "          'pressure': 1010,\n",
      "          'temp': 57.52,\n",
      "          'temp_max': 57.99,\n",
      "          'temp_min': 57.2},\n",
      " 'name': 'Yellowknife',\n",
      " 'sys': {'country': 'CA',\n",
      "         'id': 1007,\n",
      "         'sunrise': 1593856381,\n",
      "         'sunset': 1593927028,\n",
      "         'type': 1},\n",
      " 'timezone': -21600,\n",
      " 'visibility': 24140,\n",
      " 'weather': [{'description': 'light rain',\n",
      "              'icon': '10n',\n",
      "              'id': 500,\n",
      "              'main': 'Rain'}],\n",
      " 'wind': {'deg': 310, 'speed': 8.05}}\n"
     ]
    }
   ],
   "source": [
    "# Build query\n",
    "url = \"http://api.openweathermap.org/data/2.5/weather?\"\n",
    "units = \"imperial\"\n",
    "city= \"Rikitea\"\n",
    "query_url = f\"{url}appid={'b9243e2d7b71044b8840d4590278accb'}&q={firstCity}&units={units}\"\n",
    "\n",
    "#Get data\n",
    "response = requests.get(query_url).json()\n",
    "pprint(response)"
   ]
  },
  {
   "cell_type": "code",
   "execution_count": 8,
   "metadata": {},
   "outputs": [
    {
     "data": {
      "text/plain": [
       "90"
      ]
     },
     "execution_count": 8,
     "metadata": {},
     "output_type": "execute_result"
    }
   ],
   "source": [
    "response[\"clouds\"][\"all\"]"
   ]
  },
  {
   "cell_type": "code",
   "execution_count": 9,
   "metadata": {},
   "outputs": [],
   "source": [
    "lats = []\n",
    "longs = []\n",
    "temps = []\n",
    "humids = []\n",
    "pressures = []\n",
    "winds = []\n",
    "clouds = []\n",
    "\n",
    "citiesFound = []\n",
    "counter = 0"
   ]
  },
  {
   "cell_type": "code",
   "execution_count": 10,
   "metadata": {},
   "outputs": [
    {
     "name": "stdout",
     "output_type": "stream",
     "text": [
      "0\n",
      "50\n",
      "100\n",
      "150\n",
      "200\n",
      "250\n",
      "300\n",
      "350\n",
      "400\n",
      "450\n",
      "500\n",
      "550\n",
      "600\n",
      "650\n"
     ]
    }
   ],
   "source": [
    "for city in cities:\n",
    "    url = f\"http://api.openweathermap.org/data/2.5/weather?q={city}&appid={'b9243e2d7b71044b8840d4590278accb'}&units={units}\"\n",
    "    \n",
    "    try:\n",
    "        response = requests.get(url).json()\n",
    "    \n",
    "        code = response[\"cod\"]\n",
    "\n",
    "        if code == 200:  \n",
    "            citiesFound.append(city)\n",
    "            lats.append(response[\"coord\"][\"lat\"])\n",
    "            longs.append(response[\"coord\"][\"lon\"])\n",
    "            temps.append(response[\"main\"][\"temp\"])\n",
    "            humids.append(response[\"main\"][\"humidity\"])\n",
    "            pressures.append(response[\"main\"][\"pressure\"])\n",
    "\n",
    "            winds.append(response[\"wind\"][\"speed\"])\n",
    "            clouds.append(response[\"clouds\"][\"all\"])\n",
    "\n",
    "        if counter % 50 == 0:\n",
    "            print(counter)\n",
    "    \n",
    "    except Exception as e:\n",
    "        print(e)\n",
    "    \n",
    "    counter += 1\n",
    "    time.sleep(1)"
   ]
  },
  {
   "cell_type": "code",
   "execution_count": 11,
   "metadata": {
    "scrolled": true
   },
   "outputs": [
    {
     "data": {
      "text/plain": [
       "659"
      ]
     },
     "execution_count": 11,
     "metadata": {},
     "output_type": "execute_result"
    }
   ],
   "source": [
    "counter"
   ]
  },
  {
   "cell_type": "code",
   "execution_count": 22,
   "metadata": {},
   "outputs": [
    {
     "data": {
      "text/html": [
       "<div>\n",
       "<style scoped>\n",
       "    .dataframe tbody tr th:only-of-type {\n",
       "        vertical-align: middle;\n",
       "    }\n",
       "\n",
       "    .dataframe tbody tr th {\n",
       "        vertical-align: top;\n",
       "    }\n",
       "\n",
       "    .dataframe thead th {\n",
       "        text-align: right;\n",
       "    }\n",
       "</style>\n",
       "<table border=\"1\" class=\"dataframe\">\n",
       "  <thead>\n",
       "    <tr style=\"text-align: right;\">\n",
       "      <th></th>\n",
       "      <th>Cities</th>\n",
       "      <th>Latitude</th>\n",
       "      <th>Longitude</th>\n",
       "      <th>Temperature</th>\n",
       "      <th>Humidity</th>\n",
       "      <th>Pressure</th>\n",
       "      <th>Wind_speed</th>\n",
       "      <th>Cloudiness</th>\n",
       "    </tr>\n",
       "  </thead>\n",
       "  <tbody>\n",
       "    <tr>\n",
       "      <th>0</th>\n",
       "      <td>yellowknife</td>\n",
       "      <td>62.46</td>\n",
       "      <td>-114.35</td>\n",
       "      <td>57.52</td>\n",
       "      <td>100</td>\n",
       "      <td>1010</td>\n",
       "      <td>8.05</td>\n",
       "      <td>90</td>\n",
       "    </tr>\n",
       "    <tr>\n",
       "      <th>1</th>\n",
       "      <td>pisco</td>\n",
       "      <td>-13.70</td>\n",
       "      <td>-76.22</td>\n",
       "      <td>55.06</td>\n",
       "      <td>93</td>\n",
       "      <td>1015</td>\n",
       "      <td>4.70</td>\n",
       "      <td>75</td>\n",
       "    </tr>\n",
       "    <tr>\n",
       "      <th>2</th>\n",
       "      <td>guerrero negro</td>\n",
       "      <td>27.98</td>\n",
       "      <td>-114.06</td>\n",
       "      <td>68.29</td>\n",
       "      <td>77</td>\n",
       "      <td>1014</td>\n",
       "      <td>11.72</td>\n",
       "      <td>0</td>\n",
       "    </tr>\n",
       "    <tr>\n",
       "      <th>3</th>\n",
       "      <td>victoria</td>\n",
       "      <td>22.29</td>\n",
       "      <td>114.16</td>\n",
       "      <td>88.65</td>\n",
       "      <td>66</td>\n",
       "      <td>1005</td>\n",
       "      <td>10.83</td>\n",
       "      <td>100</td>\n",
       "    </tr>\n",
       "    <tr>\n",
       "      <th>4</th>\n",
       "      <td>makakilo city</td>\n",
       "      <td>21.35</td>\n",
       "      <td>-158.09</td>\n",
       "      <td>77.79</td>\n",
       "      <td>69</td>\n",
       "      <td>1015</td>\n",
       "      <td>5.82</td>\n",
       "      <td>75</td>\n",
       "    </tr>\n",
       "    <tr>\n",
       "      <th>...</th>\n",
       "      <td>...</td>\n",
       "      <td>...</td>\n",
       "      <td>...</td>\n",
       "      <td>...</td>\n",
       "      <td>...</td>\n",
       "      <td>...</td>\n",
       "      <td>...</td>\n",
       "      <td>...</td>\n",
       "    </tr>\n",
       "    <tr>\n",
       "      <th>594</th>\n",
       "      <td>ambilobe</td>\n",
       "      <td>-13.20</td>\n",
       "      <td>49.05</td>\n",
       "      <td>85.41</td>\n",
       "      <td>49</td>\n",
       "      <td>1016</td>\n",
       "      <td>3.49</td>\n",
       "      <td>6</td>\n",
       "    </tr>\n",
       "    <tr>\n",
       "      <th>595</th>\n",
       "      <td>yuanping</td>\n",
       "      <td>38.72</td>\n",
       "      <td>112.76</td>\n",
       "      <td>77.23</td>\n",
       "      <td>48</td>\n",
       "      <td>1005</td>\n",
       "      <td>11.27</td>\n",
       "      <td>100</td>\n",
       "    </tr>\n",
       "    <tr>\n",
       "      <th>596</th>\n",
       "      <td>bambanglipuro</td>\n",
       "      <td>-7.95</td>\n",
       "      <td>110.28</td>\n",
       "      <td>83.55</td>\n",
       "      <td>62</td>\n",
       "      <td>1009</td>\n",
       "      <td>16.75</td>\n",
       "      <td>0</td>\n",
       "    </tr>\n",
       "    <tr>\n",
       "      <th>597</th>\n",
       "      <td>miri</td>\n",
       "      <td>4.41</td>\n",
       "      <td>114.01</td>\n",
       "      <td>91.40</td>\n",
       "      <td>66</td>\n",
       "      <td>1008</td>\n",
       "      <td>6.93</td>\n",
       "      <td>40</td>\n",
       "    </tr>\n",
       "    <tr>\n",
       "      <th>598</th>\n",
       "      <td>bontang</td>\n",
       "      <td>0.13</td>\n",
       "      <td>117.50</td>\n",
       "      <td>77.05</td>\n",
       "      <td>87</td>\n",
       "      <td>1008</td>\n",
       "      <td>3.56</td>\n",
       "      <td>100</td>\n",
       "    </tr>\n",
       "  </tbody>\n",
       "</table>\n",
       "<p>599 rows × 8 columns</p>\n",
       "</div>"
      ],
      "text/plain": [
       "             Cities  Latitude  Longitude  Temperature  Humidity  Pressure  \\\n",
       "0       yellowknife     62.46    -114.35        57.52       100      1010   \n",
       "1             pisco    -13.70     -76.22        55.06        93      1015   \n",
       "2    guerrero negro     27.98    -114.06        68.29        77      1014   \n",
       "3          victoria     22.29     114.16        88.65        66      1005   \n",
       "4     makakilo city     21.35    -158.09        77.79        69      1015   \n",
       "..              ...       ...        ...          ...       ...       ...   \n",
       "594        ambilobe    -13.20      49.05        85.41        49      1016   \n",
       "595        yuanping     38.72     112.76        77.23        48      1005   \n",
       "596   bambanglipuro     -7.95     110.28        83.55        62      1009   \n",
       "597            miri      4.41     114.01        91.40        66      1008   \n",
       "598         bontang      0.13     117.50        77.05        87      1008   \n",
       "\n",
       "     Wind_speed  Cloudiness  \n",
       "0          8.05          90  \n",
       "1          4.70          75  \n",
       "2         11.72           0  \n",
       "3         10.83         100  \n",
       "4          5.82          75  \n",
       "..          ...         ...  \n",
       "594        3.49           6  \n",
       "595       11.27         100  \n",
       "596       16.75           0  \n",
       "597        6.93          40  \n",
       "598        3.56         100  \n",
       "\n",
       "[599 rows x 8 columns]"
      ]
     },
     "execution_count": 22,
     "metadata": {},
     "output_type": "execute_result"
    }
   ],
   "source": [
    "df = pd.DataFrame()\n",
    "df[\"Cities\"] = citiesFound\n",
    "df[\"Latitude\"] = lats\n",
    "df[\"Longitude\"] = longs\n",
    "df[\"Temperature\"] = temps\n",
    "df[\"Humidity\"] = humids\n",
    "df[\"Pressure\"] = pressures\n",
    "df[\"Wind_speed\"] = winds\n",
    "df[\"Cloudiness\"] = clouds\n",
    "\n",
    "df.head()\n",
    "df"
   ]
  },
  {
   "cell_type": "markdown",
   "metadata": {},
   "source": [
    "### Convert Raw Data to DataFrame\n",
    "* Export the city data into a .csv.\n",
    "* Display the DataFrame"
   ]
  },
  {
   "cell_type": "code",
   "execution_count": 23,
   "metadata": {},
   "outputs": [
    {
     "data": {
      "text/html": [
       "<div>\n",
       "<style scoped>\n",
       "    .dataframe tbody tr th:only-of-type {\n",
       "        vertical-align: middle;\n",
       "    }\n",
       "\n",
       "    .dataframe tbody tr th {\n",
       "        vertical-align: top;\n",
       "    }\n",
       "\n",
       "    .dataframe thead th {\n",
       "        text-align: right;\n",
       "    }\n",
       "</style>\n",
       "<table border=\"1\" class=\"dataframe\">\n",
       "  <thead>\n",
       "    <tr style=\"text-align: right;\">\n",
       "      <th></th>\n",
       "      <th>Cities</th>\n",
       "      <th>Latitude</th>\n",
       "      <th>Longitude</th>\n",
       "      <th>Temperature</th>\n",
       "      <th>Humidity</th>\n",
       "      <th>Pressure</th>\n",
       "      <th>Wind_speed</th>\n",
       "      <th>Cloudiness</th>\n",
       "    </tr>\n",
       "  </thead>\n",
       "  <tbody>\n",
       "    <tr>\n",
       "      <th>0</th>\n",
       "      <td>yellowknife</td>\n",
       "      <td>62.46</td>\n",
       "      <td>-114.35</td>\n",
       "      <td>57.52</td>\n",
       "      <td>100</td>\n",
       "      <td>1010</td>\n",
       "      <td>8.05</td>\n",
       "      <td>90</td>\n",
       "    </tr>\n",
       "    <tr>\n",
       "      <th>1</th>\n",
       "      <td>pisco</td>\n",
       "      <td>-13.70</td>\n",
       "      <td>-76.22</td>\n",
       "      <td>55.06</td>\n",
       "      <td>93</td>\n",
       "      <td>1015</td>\n",
       "      <td>4.70</td>\n",
       "      <td>75</td>\n",
       "    </tr>\n",
       "    <tr>\n",
       "      <th>2</th>\n",
       "      <td>guerrero negro</td>\n",
       "      <td>27.98</td>\n",
       "      <td>-114.06</td>\n",
       "      <td>68.29</td>\n",
       "      <td>77</td>\n",
       "      <td>1014</td>\n",
       "      <td>11.72</td>\n",
       "      <td>0</td>\n",
       "    </tr>\n",
       "    <tr>\n",
       "      <th>3</th>\n",
       "      <td>victoria</td>\n",
       "      <td>22.29</td>\n",
       "      <td>114.16</td>\n",
       "      <td>88.65</td>\n",
       "      <td>66</td>\n",
       "      <td>1005</td>\n",
       "      <td>10.83</td>\n",
       "      <td>100</td>\n",
       "    </tr>\n",
       "    <tr>\n",
       "      <th>4</th>\n",
       "      <td>makakilo city</td>\n",
       "      <td>21.35</td>\n",
       "      <td>-158.09</td>\n",
       "      <td>77.79</td>\n",
       "      <td>69</td>\n",
       "      <td>1015</td>\n",
       "      <td>5.82</td>\n",
       "      <td>75</td>\n",
       "    </tr>\n",
       "    <tr>\n",
       "      <th>...</th>\n",
       "      <td>...</td>\n",
       "      <td>...</td>\n",
       "      <td>...</td>\n",
       "      <td>...</td>\n",
       "      <td>...</td>\n",
       "      <td>...</td>\n",
       "      <td>...</td>\n",
       "      <td>...</td>\n",
       "    </tr>\n",
       "    <tr>\n",
       "      <th>594</th>\n",
       "      <td>ambilobe</td>\n",
       "      <td>-13.20</td>\n",
       "      <td>49.05</td>\n",
       "      <td>85.41</td>\n",
       "      <td>49</td>\n",
       "      <td>1016</td>\n",
       "      <td>3.49</td>\n",
       "      <td>6</td>\n",
       "    </tr>\n",
       "    <tr>\n",
       "      <th>595</th>\n",
       "      <td>yuanping</td>\n",
       "      <td>38.72</td>\n",
       "      <td>112.76</td>\n",
       "      <td>77.23</td>\n",
       "      <td>48</td>\n",
       "      <td>1005</td>\n",
       "      <td>11.27</td>\n",
       "      <td>100</td>\n",
       "    </tr>\n",
       "    <tr>\n",
       "      <th>596</th>\n",
       "      <td>bambanglipuro</td>\n",
       "      <td>-7.95</td>\n",
       "      <td>110.28</td>\n",
       "      <td>83.55</td>\n",
       "      <td>62</td>\n",
       "      <td>1009</td>\n",
       "      <td>16.75</td>\n",
       "      <td>0</td>\n",
       "    </tr>\n",
       "    <tr>\n",
       "      <th>597</th>\n",
       "      <td>miri</td>\n",
       "      <td>4.41</td>\n",
       "      <td>114.01</td>\n",
       "      <td>91.40</td>\n",
       "      <td>66</td>\n",
       "      <td>1008</td>\n",
       "      <td>6.93</td>\n",
       "      <td>40</td>\n",
       "    </tr>\n",
       "    <tr>\n",
       "      <th>598</th>\n",
       "      <td>bontang</td>\n",
       "      <td>0.13</td>\n",
       "      <td>117.50</td>\n",
       "      <td>77.05</td>\n",
       "      <td>87</td>\n",
       "      <td>1008</td>\n",
       "      <td>3.56</td>\n",
       "      <td>100</td>\n",
       "    </tr>\n",
       "  </tbody>\n",
       "</table>\n",
       "<p>599 rows × 8 columns</p>\n",
       "</div>"
      ],
      "text/plain": [
       "             Cities  Latitude  Longitude  Temperature  Humidity  Pressure  \\\n",
       "0       yellowknife     62.46    -114.35        57.52       100      1010   \n",
       "1             pisco    -13.70     -76.22        55.06        93      1015   \n",
       "2    guerrero negro     27.98    -114.06        68.29        77      1014   \n",
       "3          victoria     22.29     114.16        88.65        66      1005   \n",
       "4     makakilo city     21.35    -158.09        77.79        69      1015   \n",
       "..              ...       ...        ...          ...       ...       ...   \n",
       "594        ambilobe    -13.20      49.05        85.41        49      1016   \n",
       "595        yuanping     38.72     112.76        77.23        48      1005   \n",
       "596   bambanglipuro     -7.95     110.28        83.55        62      1009   \n",
       "597            miri      4.41     114.01        91.40        66      1008   \n",
       "598         bontang      0.13     117.50        77.05        87      1008   \n",
       "\n",
       "     Wind_speed  Cloudiness  \n",
       "0          8.05          90  \n",
       "1          4.70          75  \n",
       "2         11.72           0  \n",
       "3         10.83         100  \n",
       "4          5.82          75  \n",
       "..          ...         ...  \n",
       "594        3.49           6  \n",
       "595       11.27         100  \n",
       "596       16.75           0  \n",
       "597        6.93          40  \n",
       "598        3.56         100  \n",
       "\n",
       "[599 rows x 8 columns]"
      ]
     },
     "execution_count": 23,
     "metadata": {},
     "output_type": "execute_result"
    }
   ],
   "source": [
    "df"
   ]
  },
  {
   "cell_type": "markdown",
   "metadata": {},
   "source": [
    "## Inspect the data and remove the cities where the humidity > 100%.\n",
    "----\n",
    "Skip this step if there are no cities that have humidity > 100%. "
   ]
  },
  {
   "cell_type": "code",
   "execution_count": 24,
   "metadata": {},
   "outputs": [
    {
     "data": {
      "text/html": [
       "<div>\n",
       "<style scoped>\n",
       "    .dataframe tbody tr th:only-of-type {\n",
       "        vertical-align: middle;\n",
       "    }\n",
       "\n",
       "    .dataframe tbody tr th {\n",
       "        vertical-align: top;\n",
       "    }\n",
       "\n",
       "    .dataframe thead th {\n",
       "        text-align: right;\n",
       "    }\n",
       "</style>\n",
       "<table border=\"1\" class=\"dataframe\">\n",
       "  <thead>\n",
       "    <tr style=\"text-align: right;\">\n",
       "      <th></th>\n",
       "      <th>Latitude</th>\n",
       "      <th>Longitude</th>\n",
       "      <th>Temperature</th>\n",
       "      <th>Humidity</th>\n",
       "      <th>Pressure</th>\n",
       "      <th>Wind_speed</th>\n",
       "      <th>Cloudiness</th>\n",
       "    </tr>\n",
       "  </thead>\n",
       "  <tbody>\n",
       "    <tr>\n",
       "      <th>count</th>\n",
       "      <td>599.000000</td>\n",
       "      <td>599.000000</td>\n",
       "      <td>599.000000</td>\n",
       "      <td>599.000000</td>\n",
       "      <td>599.000000</td>\n",
       "      <td>599.000000</td>\n",
       "      <td>599.000000</td>\n",
       "    </tr>\n",
       "    <tr>\n",
       "      <th>mean</th>\n",
       "      <td>20.799265</td>\n",
       "      <td>18.665058</td>\n",
       "      <td>69.482304</td>\n",
       "      <td>67.028381</td>\n",
       "      <td>1012.196995</td>\n",
       "      <td>7.923356</td>\n",
       "      <td>50.482471</td>\n",
       "    </tr>\n",
       "    <tr>\n",
       "      <th>std</th>\n",
       "      <td>32.719355</td>\n",
       "      <td>88.860502</td>\n",
       "      <td>14.863268</td>\n",
       "      <td>23.231297</td>\n",
       "      <td>6.845250</td>\n",
       "      <td>4.942616</td>\n",
       "      <td>41.448957</td>\n",
       "    </tr>\n",
       "    <tr>\n",
       "      <th>min</th>\n",
       "      <td>-54.800000</td>\n",
       "      <td>-179.170000</td>\n",
       "      <td>24.800000</td>\n",
       "      <td>3.000000</td>\n",
       "      <td>993.000000</td>\n",
       "      <td>0.180000</td>\n",
       "      <td>0.000000</td>\n",
       "    </tr>\n",
       "    <tr>\n",
       "      <th>25%</th>\n",
       "      <td>-6.195000</td>\n",
       "      <td>-59.040000</td>\n",
       "      <td>58.830000</td>\n",
       "      <td>53.000000</td>\n",
       "      <td>1008.000000</td>\n",
       "      <td>4.180000</td>\n",
       "      <td>1.000000</td>\n",
       "    </tr>\n",
       "    <tr>\n",
       "      <th>50%</th>\n",
       "      <td>27.150000</td>\n",
       "      <td>25.230000</td>\n",
       "      <td>71.600000</td>\n",
       "      <td>73.000000</td>\n",
       "      <td>1013.000000</td>\n",
       "      <td>6.930000</td>\n",
       "      <td>57.000000</td>\n",
       "    </tr>\n",
       "    <tr>\n",
       "      <th>75%</th>\n",
       "      <td>47.955000</td>\n",
       "      <td>94.595000</td>\n",
       "      <td>80.600000</td>\n",
       "      <td>84.000000</td>\n",
       "      <td>1016.000000</td>\n",
       "      <td>10.580000</td>\n",
       "      <td>93.500000</td>\n",
       "    </tr>\n",
       "    <tr>\n",
       "      <th>max</th>\n",
       "      <td>78.220000</td>\n",
       "      <td>179.320000</td>\n",
       "      <td>107.310000</td>\n",
       "      <td>100.000000</td>\n",
       "      <td>1032.000000</td>\n",
       "      <td>26.020000</td>\n",
       "      <td>100.000000</td>\n",
       "    </tr>\n",
       "  </tbody>\n",
       "</table>\n",
       "</div>"
      ],
      "text/plain": [
       "         Latitude   Longitude  Temperature    Humidity     Pressure  \\\n",
       "count  599.000000  599.000000   599.000000  599.000000   599.000000   \n",
       "mean    20.799265   18.665058    69.482304   67.028381  1012.196995   \n",
       "std     32.719355   88.860502    14.863268   23.231297     6.845250   \n",
       "min    -54.800000 -179.170000    24.800000    3.000000   993.000000   \n",
       "25%     -6.195000  -59.040000    58.830000   53.000000  1008.000000   \n",
       "50%     27.150000   25.230000    71.600000   73.000000  1013.000000   \n",
       "75%     47.955000   94.595000    80.600000   84.000000  1016.000000   \n",
       "max     78.220000  179.320000   107.310000  100.000000  1032.000000   \n",
       "\n",
       "       Wind_speed  Cloudiness  \n",
       "count  599.000000  599.000000  \n",
       "mean     7.923356   50.482471  \n",
       "std      4.942616   41.448957  \n",
       "min      0.180000    0.000000  \n",
       "25%      4.180000    1.000000  \n",
       "50%      6.930000   57.000000  \n",
       "75%     10.580000   93.500000  \n",
       "max     26.020000  100.000000  "
      ]
     },
     "execution_count": 24,
     "metadata": {},
     "output_type": "execute_result"
    }
   ],
   "source": [
    "df.describe() "
   ]
  },
  {
   "cell_type": "code",
   "execution_count": 25,
   "metadata": {},
   "outputs": [
    {
     "data": {
      "text/html": [
       "<div>\n",
       "<style scoped>\n",
       "    .dataframe tbody tr th:only-of-type {\n",
       "        vertical-align: middle;\n",
       "    }\n",
       "\n",
       "    .dataframe tbody tr th {\n",
       "        vertical-align: top;\n",
       "    }\n",
       "\n",
       "    .dataframe thead th {\n",
       "        text-align: right;\n",
       "    }\n",
       "</style>\n",
       "<table border=\"1\" class=\"dataframe\">\n",
       "  <thead>\n",
       "    <tr style=\"text-align: right;\">\n",
       "      <th></th>\n",
       "      <th>Cities</th>\n",
       "      <th>Latitude</th>\n",
       "      <th>Longitude</th>\n",
       "      <th>Temperature</th>\n",
       "      <th>Humidity</th>\n",
       "      <th>Pressure</th>\n",
       "      <th>Wind_speed</th>\n",
       "      <th>Cloudiness</th>\n",
       "    </tr>\n",
       "  </thead>\n",
       "  <tbody>\n",
       "    <tr>\n",
       "      <th>0</th>\n",
       "      <td>yellowknife</td>\n",
       "      <td>62.46</td>\n",
       "      <td>-114.35</td>\n",
       "      <td>57.52</td>\n",
       "      <td>100</td>\n",
       "      <td>1010</td>\n",
       "      <td>8.05</td>\n",
       "      <td>90</td>\n",
       "    </tr>\n",
       "    <tr>\n",
       "      <th>1</th>\n",
       "      <td>pisco</td>\n",
       "      <td>-13.70</td>\n",
       "      <td>-76.22</td>\n",
       "      <td>55.06</td>\n",
       "      <td>93</td>\n",
       "      <td>1015</td>\n",
       "      <td>4.70</td>\n",
       "      <td>75</td>\n",
       "    </tr>\n",
       "    <tr>\n",
       "      <th>2</th>\n",
       "      <td>guerrero negro</td>\n",
       "      <td>27.98</td>\n",
       "      <td>-114.06</td>\n",
       "      <td>68.29</td>\n",
       "      <td>77</td>\n",
       "      <td>1014</td>\n",
       "      <td>11.72</td>\n",
       "      <td>0</td>\n",
       "    </tr>\n",
       "    <tr>\n",
       "      <th>3</th>\n",
       "      <td>victoria</td>\n",
       "      <td>22.29</td>\n",
       "      <td>114.16</td>\n",
       "      <td>88.65</td>\n",
       "      <td>66</td>\n",
       "      <td>1005</td>\n",
       "      <td>10.83</td>\n",
       "      <td>100</td>\n",
       "    </tr>\n",
       "    <tr>\n",
       "      <th>4</th>\n",
       "      <td>makakilo city</td>\n",
       "      <td>21.35</td>\n",
       "      <td>-158.09</td>\n",
       "      <td>77.79</td>\n",
       "      <td>69</td>\n",
       "      <td>1015</td>\n",
       "      <td>5.82</td>\n",
       "      <td>75</td>\n",
       "    </tr>\n",
       "  </tbody>\n",
       "</table>\n",
       "</div>"
      ],
      "text/plain": [
       "           Cities  Latitude  Longitude  Temperature  Humidity  Pressure  \\\n",
       "0     yellowknife     62.46    -114.35        57.52       100      1010   \n",
       "1           pisco    -13.70     -76.22        55.06        93      1015   \n",
       "2  guerrero negro     27.98    -114.06        68.29        77      1014   \n",
       "3        victoria     22.29     114.16        88.65        66      1005   \n",
       "4   makakilo city     21.35    -158.09        77.79        69      1015   \n",
       "\n",
       "   Wind_speed  Cloudiness  \n",
       "0        8.05          90  \n",
       "1        4.70          75  \n",
       "2       11.72           0  \n",
       "3       10.83         100  \n",
       "4        5.82          75  "
      ]
     },
     "execution_count": 25,
     "metadata": {},
     "output_type": "execute_result"
    }
   ],
   "source": [
    "#  Get the indices of cities that have humidity over 100%.\n",
    "\n",
    "mask = df.Humidity <= 100\n",
    "df_humid = df.loc[mask].reset_index(drop=True)\n",
    "\n",
    "df_humid.head()"
   ]
  },
  {
   "cell_type": "code",
   "execution_count": 26,
   "metadata": {},
   "outputs": [],
   "source": [
    "# Make a new DataFrame equal to the city data to drop all humidity outliers by index.\n",
    "# Passing \"inplace=False\" will make a copy of the city_data DataFrame, which we call \"clean_city_data\".\n"
   ]
  },
  {
   "cell_type": "code",
   "execution_count": 27,
   "metadata": {},
   "outputs": [],
   "source": [
    "# Extract relevant fields from the data frame\n",
    "\n",
    "\n",
    "# Export the City_Data into a csv\n",
    "df_humid.to_csv(\"weatherData.csv\", index=False)\n"
   ]
  },
  {
   "cell_type": "markdown",
   "metadata": {},
   "source": [
    "## Plotting the Data\n",
    "* Use proper labeling of the plots using plot titles (including date of analysis) and axes labels.\n",
    "* Save the plotted figures as .pngs."
   ]
  },
  {
   "cell_type": "code",
   "execution_count": 28,
   "metadata": {},
   "outputs": [
    {
     "data": {
      "text/html": [
       "<div>\n",
       "<style scoped>\n",
       "    .dataframe tbody tr th:only-of-type {\n",
       "        vertical-align: middle;\n",
       "    }\n",
       "\n",
       "    .dataframe tbody tr th {\n",
       "        vertical-align: top;\n",
       "    }\n",
       "\n",
       "    .dataframe thead th {\n",
       "        text-align: right;\n",
       "    }\n",
       "</style>\n",
       "<table border=\"1\" class=\"dataframe\">\n",
       "  <thead>\n",
       "    <tr style=\"text-align: right;\">\n",
       "      <th></th>\n",
       "      <th>Cities</th>\n",
       "      <th>Latitude</th>\n",
       "      <th>Longitude</th>\n",
       "      <th>Temperature</th>\n",
       "      <th>Humidity</th>\n",
       "      <th>Pressure</th>\n",
       "      <th>Wind_speed</th>\n",
       "      <th>Cloudiness</th>\n",
       "    </tr>\n",
       "  </thead>\n",
       "  <tbody>\n",
       "    <tr>\n",
       "      <th>0</th>\n",
       "      <td>yellowknife</td>\n",
       "      <td>62.46</td>\n",
       "      <td>-114.35</td>\n",
       "      <td>57.52</td>\n",
       "      <td>100</td>\n",
       "      <td>1010</td>\n",
       "      <td>8.05</td>\n",
       "      <td>90</td>\n",
       "    </tr>\n",
       "    <tr>\n",
       "      <th>1</th>\n",
       "      <td>pisco</td>\n",
       "      <td>-13.70</td>\n",
       "      <td>-76.22</td>\n",
       "      <td>55.06</td>\n",
       "      <td>93</td>\n",
       "      <td>1015</td>\n",
       "      <td>4.70</td>\n",
       "      <td>75</td>\n",
       "    </tr>\n",
       "    <tr>\n",
       "      <th>2</th>\n",
       "      <td>guerrero negro</td>\n",
       "      <td>27.98</td>\n",
       "      <td>-114.06</td>\n",
       "      <td>68.29</td>\n",
       "      <td>77</td>\n",
       "      <td>1014</td>\n",
       "      <td>11.72</td>\n",
       "      <td>0</td>\n",
       "    </tr>\n",
       "    <tr>\n",
       "      <th>3</th>\n",
       "      <td>victoria</td>\n",
       "      <td>22.29</td>\n",
       "      <td>114.16</td>\n",
       "      <td>88.65</td>\n",
       "      <td>66</td>\n",
       "      <td>1005</td>\n",
       "      <td>10.83</td>\n",
       "      <td>100</td>\n",
       "    </tr>\n",
       "    <tr>\n",
       "      <th>4</th>\n",
       "      <td>makakilo city</td>\n",
       "      <td>21.35</td>\n",
       "      <td>-158.09</td>\n",
       "      <td>77.79</td>\n",
       "      <td>69</td>\n",
       "      <td>1015</td>\n",
       "      <td>5.82</td>\n",
       "      <td>75</td>\n",
       "    </tr>\n",
       "  </tbody>\n",
       "</table>\n",
       "</div>"
      ],
      "text/plain": [
       "           Cities  Latitude  Longitude  Temperature  Humidity  Pressure  \\\n",
       "0     yellowknife     62.46    -114.35        57.52       100      1010   \n",
       "1           pisco    -13.70     -76.22        55.06        93      1015   \n",
       "2  guerrero negro     27.98    -114.06        68.29        77      1014   \n",
       "3        victoria     22.29     114.16        88.65        66      1005   \n",
       "4   makakilo city     21.35    -158.09        77.79        69      1015   \n",
       "\n",
       "   Wind_speed  Cloudiness  \n",
       "0        8.05          90  \n",
       "1        4.70          75  \n",
       "2       11.72           0  \n",
       "3       10.83         100  \n",
       "4        5.82          75  "
      ]
     },
     "execution_count": 28,
     "metadata": {},
     "output_type": "execute_result"
    }
   ],
   "source": [
    "df = pd.read_csv(\"weatherData.csv\")\n",
    "\n",
    "df.head()"
   ]
  },
  {
   "cell_type": "markdown",
   "metadata": {},
   "source": [
    "## Latitude vs. Temperature Plot"
   ]
  },
  {
   "cell_type": "code",
   "execution_count": 37,
   "metadata": {
    "scrolled": true
   },
   "outputs": [
    {
     "data": {
      "image/png": "[encoded data removed]",
      "text/plain": [
       "<Figure size 432x288 with 1 Axes>"
      ]
     },
     "metadata": {
      "needs_background": "light"
     },
     "output_type": "display_data"
    }
   ],
   "source": [
    "plt.scatter(df.Latitude, df.Temperature, color=\"purple\")\n",
    "plt.xlabel(\"Latitude\")\n",
    "plt.ylabel(\"Temperature\" '(f)')\n",
    "plt.title(\"Latitude vs Temperature\", fontsize=16, fontweight=\"bold\")\n",
    "plt.show()"
   ]
  },
  {
   "cell_type": "markdown",
   "metadata": {},
   "source": [
    "## Latitude vs. Humidity Plot"
   ]
  },
  {
   "cell_type": "code",
   "execution_count": 41,
   "metadata": {},
   "outputs": [
    {
     "data": {
      "image/png": "[encoded data removed]",
      "text/plain": [
       "<Figure size 432x288 with 1 Axes>"
      ]
     },
     "metadata": {
      "needs_background": "light"
     },
     "output_type": "display_data"
    }
   ],
   "source": [
    "plt.scatter(df.Latitude, df.Humidity, color=\"Purple\")\n",
    "plt.xlabel(\"Latitude\")\n",
    "plt.ylabel(\"Humidity\")\n",
    "plt.title(\"Latitude vs Humidity 7/3/2020 \", fontsize=16, fontweight=\"bold\")\n",
    "plt.show()"
   ]
  },
  {
   "cell_type": "markdown",
   "metadata": {},
   "source": [
    "## Latitude vs. Cloudiness Plot"
   ]
  },
  {
   "cell_type": "code",
   "execution_count": 44,
   "metadata": {},
   "outputs": [
    {
     "data": {
      "image/png": "[encoded data removed]",
      "text/plain": [
       "<Figure size 432x288 with 1 Axes>"
      ]
     },
     "metadata": {
      "needs_background": "light"
     },
     "output_type": "display_data"
    }
   ],
   "source": [
    "plt.scatter(df.Latitude, df.Cloudiness, color=\"purple\")\n",
    "plt.xlabel(\"Latitude\")\n",
    "plt.ylabel(\"Cloudiness\")\n",
    "plt.title(\"Latitude vs Cloudiness\", fontsize=16, fontweight=\"bold\")\n",
    "plt.show()"
   ]
  },
  {
   "cell_type": "markdown",
   "metadata": {},
   "source": [
    "## Latitude vs. Wind Speed Plot"
   ]
  },
  {
   "cell_type": "code",
   "execution_count": 47,
   "metadata": {},
   "outputs": [
    {
     "data": {
      "image/png": "[encoded data removed]",
      "text/plain": [
       "<Figure size 432x288 with 1 Axes>"
      ]
     },
     "metadata": {
      "needs_background": "light"
     },
     "output_type": "display_data"
    }
   ],
   "source": [
    "plt.scatter(df.Latitude, df.Wind_speed, color=\"purple\")\n",
    "plt.xlabel(\"Latitude\")\n",
    "plt.ylabel(\"Wind Speed\")\n",
    "plt.title(\"Latitude vs Wind Speed\", fontsize=16, fontweight=\"bold\")\n",
    "plt.show()"
   ]
  },
  {
   "cell_type": "markdown",
   "metadata": {},
   "source": [
    "## Linear Regression"
   ]
  },
  {
   "cell_type": "code",
   "execution_count": 14,
   "metadata": {},
   "outputs": [],
   "source": [
    "# OPTIONAL: Create a function to create Linear Regression plots"
   ]
  },
  {
   "cell_type": "code",
   "execution_count": 50,
   "metadata": {
    "scrolled": false
   },
   "outputs": [
    {
     "data": {
      "text/html": [
       "<div>\n",
       "<style scoped>\n",
       "    .dataframe tbody tr th:only-of-type {\n",
       "        vertical-align: middle;\n",
       "    }\n",
       "\n",
       "    .dataframe tbody tr th {\n",
       "        vertical-align: top;\n",
       "    }\n",
       "\n",
       "    .dataframe thead th {\n",
       "        text-align: right;\n",
       "    }\n",
       "</style>\n",
       "<table border=\"1\" class=\"dataframe\">\n",
       "  <thead>\n",
       "    <tr style=\"text-align: right;\">\n",
       "      <th></th>\n",
       "      <th>Latitude</th>\n",
       "      <th>Longitude</th>\n",
       "      <th>Temperature</th>\n",
       "      <th>Humidity</th>\n",
       "      <th>Pressure</th>\n",
       "      <th>Wind_speed</th>\n",
       "      <th>Cloudiness</th>\n",
       "    </tr>\n",
       "  </thead>\n",
       "  <tbody>\n",
       "    <tr>\n",
       "      <th>count</th>\n",
       "      <td>419.000000</td>\n",
       "      <td>419.000000</td>\n",
       "      <td>419.000000</td>\n",
       "      <td>419.000000</td>\n",
       "      <td>419.000000</td>\n",
       "      <td>419.000000</td>\n",
       "      <td>419.000000</td>\n",
       "    </tr>\n",
       "    <tr>\n",
       "      <th>mean</th>\n",
       "      <td>38.812053</td>\n",
       "      <td>14.007852</td>\n",
       "      <td>71.851050</td>\n",
       "      <td>65.816229</td>\n",
       "      <td>1010.577566</td>\n",
       "      <td>7.897112</td>\n",
       "      <td>51.252983</td>\n",
       "    </tr>\n",
       "    <tr>\n",
       "      <th>std</th>\n",
       "      <td>19.352332</td>\n",
       "      <td>86.730943</td>\n",
       "      <td>14.499063</td>\n",
       "      <td>23.988676</td>\n",
       "      <td>6.424800</td>\n",
       "      <td>5.026661</td>\n",
       "      <td>41.611647</td>\n",
       "    </tr>\n",
       "    <tr>\n",
       "      <th>min</th>\n",
       "      <td>0.130000</td>\n",
       "      <td>-179.170000</td>\n",
       "      <td>34.540000</td>\n",
       "      <td>7.000000</td>\n",
       "      <td>995.000000</td>\n",
       "      <td>0.180000</td>\n",
       "      <td>0.000000</td>\n",
       "    </tr>\n",
       "    <tr>\n",
       "      <th>25%</th>\n",
       "      <td>23.370000</td>\n",
       "      <td>-68.265000</td>\n",
       "      <td>62.600000</td>\n",
       "      <td>51.000000</td>\n",
       "      <td>1006.000000</td>\n",
       "      <td>4.380000</td>\n",
       "      <td>1.000000</td>\n",
       "    </tr>\n",
       "    <tr>\n",
       "      <th>50%</th>\n",
       "      <td>40.600000</td>\n",
       "      <td>26.690000</td>\n",
       "      <td>73.530000</td>\n",
       "      <td>72.000000</td>\n",
       "      <td>1011.000000</td>\n",
       "      <td>6.930000</td>\n",
       "      <td>58.000000</td>\n",
       "    </tr>\n",
       "    <tr>\n",
       "      <th>75%</th>\n",
       "      <td>54.175000</td>\n",
       "      <td>83.200000</td>\n",
       "      <td>82.400000</td>\n",
       "      <td>84.000000</td>\n",
       "      <td>1015.000000</td>\n",
       "      <td>10.505000</td>\n",
       "      <td>95.500000</td>\n",
       "    </tr>\n",
       "    <tr>\n",
       "      <th>max</th>\n",
       "      <td>78.220000</td>\n",
       "      <td>179.320000</td>\n",
       "      <td>107.310000</td>\n",
       "      <td>100.000000</td>\n",
       "      <td>1030.000000</td>\n",
       "      <td>26.020000</td>\n",
       "      <td>100.000000</td>\n",
       "    </tr>\n",
       "  </tbody>\n",
       "</table>\n",
       "</div>"
      ],
      "text/plain": [
       "         Latitude   Longitude  Temperature    Humidity     Pressure  \\\n",
       "count  419.000000  419.000000   419.000000  419.000000   419.000000   \n",
       "mean    38.812053   14.007852    71.851050   65.816229  1010.577566   \n",
       "std     19.352332   86.730943    14.499063   23.988676     6.424800   \n",
       "min      0.130000 -179.170000    34.540000    7.000000   995.000000   \n",
       "25%     23.370000  -68.265000    62.600000   51.000000  1006.000000   \n",
       "50%     40.600000   26.690000    73.530000   72.000000  1011.000000   \n",
       "75%     54.175000   83.200000    82.400000   84.000000  1015.000000   \n",
       "max     78.220000  179.320000   107.310000  100.000000  1030.000000   \n",
       "\n",
       "       Wind_speed  Cloudiness  \n",
       "count  419.000000  419.000000  \n",
       "mean     7.897112   51.252983  \n",
       "std      5.026661   41.611647  \n",
       "min      0.180000    0.000000  \n",
       "25%      4.380000    1.000000  \n",
       "50%      6.930000   58.000000  \n",
       "75%     10.505000   95.500000  \n",
       "max     26.020000  100.000000  "
      ]
     },
     "execution_count": 50,
     "metadata": {},
     "output_type": "execute_result"
    }
   ],
   "source": [
    "# Create Northern and Southern Hemisphere DataFrames\n",
    "northmask= df_humid.Latitude >=0\n",
    "north_df = df_humid.loc[northmask].reset_index(drop=True)\n",
    "north_df.describe()"
   ]
  },
  {
   "cell_type": "code",
   "execution_count": 56,
   "metadata": {},
   "outputs": [
    {
     "data": {
      "text/plain": [
       "<matplotlib.axes._subplots.AxesSubplot at 0x248cbdc2608>"
      ]
     },
     "execution_count": 56,
     "metadata": {},
     "output_type": "execute_result"
    },
    {
     "data": {
      "image/png": "[encoded data removed]",
      "text/plain": [
       "<Figure size 432x288 with 2 Axes>"
      ]
     },
     "metadata": {
      "needs_background": "light"
     },
     "output_type": "display_data"
    }
   ],
   "source": [
    "import seaborn as sn\n",
    "north_corr = north_df.corr()\n",
    "sn.heatmap(north_corr)"
   ]
  },
  {
   "cell_type": "code",
   "execution_count": 52,
   "metadata": {
    "scrolled": true
   },
   "outputs": [
    {
     "data": {
      "text/html": [
       "<div>\n",
       "<style scoped>\n",
       "    .dataframe tbody tr th:only-of-type {\n",
       "        vertical-align: middle;\n",
       "    }\n",
       "\n",
       "    .dataframe tbody tr th {\n",
       "        vertical-align: top;\n",
       "    }\n",
       "\n",
       "    .dataframe thead th {\n",
       "        text-align: right;\n",
       "    }\n",
       "</style>\n",
       "<table border=\"1\" class=\"dataframe\">\n",
       "  <thead>\n",
       "    <tr style=\"text-align: right;\">\n",
       "      <th></th>\n",
       "      <th>Latitude</th>\n",
       "      <th>Longitude</th>\n",
       "      <th>Temperature</th>\n",
       "      <th>Humidity</th>\n",
       "      <th>Pressure</th>\n",
       "      <th>Wind_speed</th>\n",
       "      <th>Cloudiness</th>\n",
       "    </tr>\n",
       "  </thead>\n",
       "  <tbody>\n",
       "    <tr>\n",
       "      <th>count</th>\n",
       "      <td>180.000000</td>\n",
       "      <td>180.000000</td>\n",
       "      <td>180.000000</td>\n",
       "      <td>180.000000</td>\n",
       "      <td>180.000000</td>\n",
       "      <td>180.000000</td>\n",
       "      <td>180.000000</td>\n",
       "    </tr>\n",
       "    <tr>\n",
       "      <th>mean</th>\n",
       "      <td>-21.130500</td>\n",
       "      <td>29.506000</td>\n",
       "      <td>63.968389</td>\n",
       "      <td>69.850000</td>\n",
       "      <td>1015.966667</td>\n",
       "      <td>7.984444</td>\n",
       "      <td>48.688889</td>\n",
       "    </tr>\n",
       "    <tr>\n",
       "      <th>std</th>\n",
       "      <td>13.210454</td>\n",
       "      <td>92.976091</td>\n",
       "      <td>14.262400</td>\n",
       "      <td>21.160064</td>\n",
       "      <td>6.302345</td>\n",
       "      <td>4.754362</td>\n",
       "      <td>41.127040</td>\n",
       "    </tr>\n",
       "    <tr>\n",
       "      <th>min</th>\n",
       "      <td>-54.800000</td>\n",
       "      <td>-175.200000</td>\n",
       "      <td>24.800000</td>\n",
       "      <td>3.000000</td>\n",
       "      <td>993.000000</td>\n",
       "      <td>0.360000</td>\n",
       "      <td>0.000000</td>\n",
       "    </tr>\n",
       "    <tr>\n",
       "      <th>25%</th>\n",
       "      <td>-32.627500</td>\n",
       "      <td>-53.465000</td>\n",
       "      <td>52.682500</td>\n",
       "      <td>58.750000</td>\n",
       "      <td>1011.000000</td>\n",
       "      <td>4.000000</td>\n",
       "      <td>0.000000</td>\n",
       "    </tr>\n",
       "    <tr>\n",
       "      <th>50%</th>\n",
       "      <td>-20.465000</td>\n",
       "      <td>24.880000</td>\n",
       "      <td>66.145000</td>\n",
       "      <td>75.000000</td>\n",
       "      <td>1015.000000</td>\n",
       "      <td>7.115000</td>\n",
       "      <td>55.000000</td>\n",
       "    </tr>\n",
       "    <tr>\n",
       "      <th>75%</th>\n",
       "      <td>-9.602500</td>\n",
       "      <td>129.077500</td>\n",
       "      <td>74.042500</td>\n",
       "      <td>85.250000</td>\n",
       "      <td>1020.000000</td>\n",
       "      <td>10.965000</td>\n",
       "      <td>90.000000</td>\n",
       "    </tr>\n",
       "    <tr>\n",
       "      <th>max</th>\n",
       "      <td>-0.600000</td>\n",
       "      <td>177.920000</td>\n",
       "      <td>89.600000</td>\n",
       "      <td>100.000000</td>\n",
       "      <td>1032.000000</td>\n",
       "      <td>24.470000</td>\n",
       "      <td>100.000000</td>\n",
       "    </tr>\n",
       "  </tbody>\n",
       "</table>\n",
       "</div>"
      ],
      "text/plain": [
       "         Latitude   Longitude  Temperature    Humidity     Pressure  \\\n",
       "count  180.000000  180.000000   180.000000  180.000000   180.000000   \n",
       "mean   -21.130500   29.506000    63.968389   69.850000  1015.966667   \n",
       "std     13.210454   92.976091    14.262400   21.160064     6.302345   \n",
       "min    -54.800000 -175.200000    24.800000    3.000000   993.000000   \n",
       "25%    -32.627500  -53.465000    52.682500   58.750000  1011.000000   \n",
       "50%    -20.465000   24.880000    66.145000   75.000000  1015.000000   \n",
       "75%     -9.602500  129.077500    74.042500   85.250000  1020.000000   \n",
       "max     -0.600000  177.920000    89.600000  100.000000  1032.000000   \n",
       "\n",
       "       Wind_speed  Cloudiness  \n",
       "count  180.000000  180.000000  \n",
       "mean     7.984444   48.688889  \n",
       "std      4.754362   41.127040  \n",
       "min      0.360000    0.000000  \n",
       "25%      4.000000    0.000000  \n",
       "50%      7.115000   55.000000  \n",
       "75%     10.965000   90.000000  \n",
       "max     24.470000  100.000000  "
      ]
     },
     "execution_count": 52,
     "metadata": {},
     "output_type": "execute_result"
    }
   ],
   "source": [
    "#Southern df\n",
    "southmask= df_humid.Latitude <0\n",
    "south_df = df_humid.loc[southmask].reset_index(drop=True)\n",
    "south_df.describe()"
   ]
  },
  {
   "cell_type": "code",
   "execution_count": 57,
   "metadata": {},
   "outputs": [
    {
     "data": {
      "text/plain": [
       "<matplotlib.axes._subplots.AxesSubplot at 0x248cc2b0f88>"
      ]
     },
     "execution_count": 57,
     "metadata": {},
     "output_type": "execute_result"
    },
    {
     "data": {
      "image/png": "[encoded data removed]",
      "text/plain": [
       "<Figure size 432x288 with 2 Axes>"
      ]
     },
     "metadata": {
      "needs_background": "light"
     },
     "output_type": "display_data"
    }
   ],
   "source": [
    "south_corr = south_df.corr()\n",
    "sn.heatmap(south_corr)"
   ]
  },
  {
   "cell_type": "markdown",
   "metadata": {},
   "source": [
    "####  Northern Hemisphere - Max Temp vs. Latitude Linear Regression"
   ]
  },
  {
   "cell_type": "code",
   "execution_count": 78,
   "metadata": {},
   "outputs": [],
   "source": [
    "\n",
    "#Regression function\n",
    "def northcharts(x, y):\n",
    "    x_values = north_df[f'{x}']\n",
    "    y_values = north_df[f'{y}']\n",
    "    (slope, intercept, rvalue, pvalue, stderr) = linregress(x_values, y_values)\n",
    "    regress_values = x_values * slope + intercept\n",
    "    line_eq = \"y = \" + str(round(slope,2)) + \"x + \" + str(round(intercept,2))\n",
    "    plt.scatter(x_values,y_values, facecolor='tan')\n",
    "    plt.plot(x_values,regress_values,\"r-\")\n",
    "    plt.xlabel(f'{x}')\n",
    "    plt.ylabel(f'{y}')\n",
    "    plt.title(f'{x} vs {y} in the North', fontweight='bold')\n",
    "    print(f\"The r-squared is: {rvalue**2}\")\n",
    "    print(f\"The p-value is: {pvalue}\")\n",
    "    print(line_eq)\n",
    "    plt.show()\n",
    "    \n",
    "def southcharts(x, y):\n",
    "    x_values = south_df[f'{x}']\n",
    "    y_values = south_df[f'{y}']\n",
    "    (slope, intercept, rvalue, pvalue, stderr) = linregress(x_values, y_values)\n",
    "    regress_values = x_values * slope + intercept\n",
    "    line_eq = \"y = \" + str(round(slope,2)) + \"x + \" + str(round(intercept,2))\n",
    "    plt.scatter(x_values,y_values, facecolor='tan')\n",
    "    plt.plot(x_values,regress_values,\"r-\")\n",
    "    plt.xlabel(f'{x}')\n",
    "    plt.ylabel(f'{y}')\n",
    "    plt.title(f'{x} vs {y} in the South', fontweight='bold')\n",
    "    print(f\"The r-squared is: {rvalue**2}\")\n",
    "    print(f\"The p-value is: {pvalue}\")\n",
    "    print(line_eq)\n",
    "    plt.show()"
   ]
  },
  {
   "cell_type": "code",
   "execution_count": 76,
   "metadata": {},
   "outputs": [
    {
     "name": "stdout",
     "output_type": "stream",
     "text": [
      "The r-squared is: 0.39362769646010787\n",
      "The p-value is: 3.1163216902091063e-47\n",
      "y = -0.47x + 90.09\n"
     ]
    },
    {
     "data": {
      "image/png": "[encoded data removed]",
      "text/plain": [
       "<Figure size 432x288 with 1 Axes>"
      ]
     },
     "metadata": {
      "needs_background": "light"
     },
     "output_type": "display_data"
    }
   ],
   "source": [
    "northcharts('Latitude', 'Temperature')\n"
   ]
  },
  {
   "cell_type": "markdown",
   "metadata": {},
   "source": [
    "####  Southern Hemisphere - Max Temp vs. Latitude Linear Regression"
   ]
  },
  {
   "cell_type": "code",
   "execution_count": 79,
   "metadata": {},
   "outputs": [
    {
     "name": "stdout",
     "output_type": "stream",
     "text": [
      "The r-squared is: 0.5855693901084577\n",
      "The p-value is: 6.979944986148725e-36\n",
      "y = 0.83x + 81.43\n"
     ]
    },
    {
     "data": {
      "image/png": "[encoded data removed]",
      "text/plain": [
       "<Figure size 432x288 with 1 Axes>"
      ]
     },
     "metadata": {
      "needs_background": "light"
     },
     "output_type": "display_data"
    }
   ],
   "source": [
    "southcharts('Latitude', 'Temperature')\n"
   ]
  },
  {
   "cell_type": "markdown",
   "metadata": {},
   "source": [
    "####  Northern Hemisphere - Humidity (%) vs. Latitude Linear Regression"
   ]
  },
  {
   "cell_type": "code",
   "execution_count": 80,
   "metadata": {},
   "outputs": [
    {
     "name": "stdout",
     "output_type": "stream",
     "text": [
      "The r-squared is: 0.0013909632099422876\n",
      "The p-value is: 0.44641426357963554\n",
      "y = -0.05x + 67.61\n"
     ]
    },
    {
     "data": {
      "image/png": "[encoded data removed]",
      "text/plain": [
       "<Figure size 432x288 with 1 Axes>"
      ]
     },
     "metadata": {
      "needs_background": "light"
     },
     "output_type": "display_data"
    }
   ],
   "source": [
    "northcharts('Latitude', 'Humidity')\n"
   ]
  },
  {
   "cell_type": "markdown",
   "metadata": {},
   "source": [
    "####  Southern Hemisphere - Humidity (%) vs. Latitude Linear Regression"
   ]
  },
  {
   "cell_type": "code",
   "execution_count": 81,
   "metadata": {},
   "outputs": [
    {
     "name": "stdout",
     "output_type": "stream",
     "text": [
      "The r-squared is: 0.00029940091157458634\n",
      "The p-value is: 0.8176668904004064\n",
      "y = -0.03x + 69.26\n"
     ]
    },
    {
     "data": {
      "image/png": "[encoded data removed]",
      "text/plain": [
       "<Figure size 432x288 with 1 Axes>"
      ]
     },
     "metadata": {
      "needs_background": "light"
     },
     "output_type": "display_data"
    }
   ],
   "source": [
    "southcharts('Latitude', 'Humidity')"
   ]
  },
  {
   "cell_type": "markdown",
   "metadata": {},
   "source": [
    "####  Northern Hemisphere - Cloudiness (%) vs. Latitude Linear Regression"
   ]
  },
  {
   "cell_type": "code",
   "execution_count": 82,
   "metadata": {},
   "outputs": [
    {
     "name": "stdout",
     "output_type": "stream",
     "text": [
      "The r-squared is: 0.0017662577482977764\n",
      "The p-value is: 0.3908495246661039\n",
      "y = 0.09x + 47.75\n"
     ]
    },
    {
     "data": {
      "image/png": "[encoded data removed]",
      "text/plain": [
       "<Figure size 432x288 with 1 Axes>"
      ]
     },
     "metadata": {
      "needs_background": "light"
     },
     "output_type": "display_data"
    }
   ],
   "source": [
    "northcharts('Latitude', 'Cloudiness')\n"
   ]
  },
  {
   "cell_type": "markdown",
   "metadata": {},
   "source": [
    "####  Southern Hemisphere - Cloudiness (%) vs. Latitude Linear Regression"
   ]
  },
  {
   "cell_type": "code",
   "execution_count": 83,
   "metadata": {},
   "outputs": [
    {
     "name": "stdout",
     "output_type": "stream",
     "text": [
      "The r-squared is: 0.0682954712694265\n",
      "The p-value is: 0.0003948247696316398\n",
      "y = -0.81x + 31.5\n"
     ]
    },
    {
     "data": {
      "image/png": "[encoded data removed]",
      "text/plain": [
       "<Figure size 432x288 with 1 Axes>"
      ]
     },
     "metadata": {
      "needs_background": "light"
     },
     "output_type": "display_data"
    }
   ],
   "source": [
    "southcharts('Latitude', 'Cloudiness')\n"
   ]
  },
  {
   "cell_type": "markdown",
   "metadata": {},
   "source": [
    "####  Northern Hemisphere - Wind Speed (mph) vs. Latitude Linear Regression"
   ]
  },
  {
   "cell_type": "code",
   "execution_count": 85,
   "metadata": {},
   "outputs": [
    {
     "name": "stdout",
     "output_type": "stream",
     "text": [
      "The r-squared is: 0.0020230969787551666\n",
      "The p-value is: 0.3584050424270664\n",
      "y = 0.01x + 7.44\n"
     ]
    },
    {
     "data": {
      "image/png": "[encoded data removed]",
      "text/plain": [
       "<Figure size 432x288 with 1 Axes>"
      ]
     },
     "metadata": {
      "needs_background": "light"
     },
     "output_type": "display_data"
    }
   ],
   "source": [
    "northcharts('Latitude', 'Wind_speed')\n"
   ]
  },
  {
   "cell_type": "markdown",
   "metadata": {},
   "source": [
    "####  Southern Hemisphere - Wind Speed (mph) vs. Latitude Linear Regression"
   ]
  },
  {
   "cell_type": "code",
   "execution_count": 86,
   "metadata": {},
   "outputs": [
    {
     "name": "stdout",
     "output_type": "stream",
     "text": [
      "The r-squared is: 0.001484357898087136\n",
      "The p-value is: 0.6076096779488749\n",
      "y = -0.01x + 7.69\n"
     ]
    },
    {
     "data": {
      "image/png": "[encoded data removed]",
      "text/plain": [
       "<Figure size 432x288 with 1 Axes>"
      ]
     },
     "metadata": {
      "needs_background": "light"
     },
     "output_type": "display_data"
    }
   ],
   "source": [
    "southcharts('Latitude', 'Wind_speed')\n"
   ]
  },
  {
   "cell_type": "code",
   "execution_count": null,
   "metadata": {},
   "outputs": [],
   "source": []
  }
 ],
 "metadata": {
  "anaconda-cloud": {},
  "kernel_info": {
   "name": "python3"
  },
  "kernelspec": {
   "display_name": "Python 3",
   "language": "python",
   "name": "python3"
  },
  "language_info": {
   "codemirror_mode": {
    "name": "ipython",
    "version": 3
   },
   "file_extension": ".py",
   "mimetype": "text/x-python",
   "name": "python",
   "nbconvert_exporter": "python",
   "pygments_lexer": "ipython3",
   "version": "3.7.6"
  },
  "latex_envs": {
   "LaTeX_envs_menu_present": true,
   "autoclose": false,
   "autocomplete": true,
   "bibliofile": "biblio.bib",
   "cite_by": "apalike",
   "current_citInitial": 1,
   "eqLabelWithNumbers": true,
   "eqNumInitial": 1,
   "hotkeys": {
    "equation": "Ctrl-E",
    "itemize": "Ctrl-I"
   },
   "labels_anchors": false,
   "latex_user_defs": false,
   "report_style_numbering": false,
   "user_envs_cfg": false
  },
  "nteract": {
   "version": "0.12.3"
  }
 },
 "nbformat": 4,
 "nbformat_minor": 2
}
